{
  "nbformat": 4,
  "nbformat_minor": 0,
  "metadata": {
    "colab": {
      "name": "Data Past Paper Data.ipynb",
      "version": "0.3.2",
      "provenance": [],
      "collapsed_sections": [],
      "toc_visible": true,
      "include_colab_link": true
    },
    "kernelspec": {
      "name": "python3",
      "display_name": "Python 3"
    }
  },
  "cells": [
    {
      "cell_type": "markdown",
      "metadata": {
        "id": "view-in-github",
        "colab_type": "text"
      },
      "source": [
        "[View in Colaboratory](https://colab.research.google.com/github/LeroySalih/Angular001/blob/master/Data_Past_Paper_Data.ipynb)"
      ]
    },
    {
      "metadata": {
        "id": "fF985_OOu_KL",
        "colab_type": "code",
        "colab": {}
      },
      "cell_type": "code",
      "source": [
        "from __future__ import print_function\n",
        "from googleapiclient.discovery import build\n",
        "from httplib2 import Http\n",
        "from oauth2client import file, client, tools\n",
        "\n",
        "import pandas as pd\n",
        "\n",
        "# If modifying these scopes, delete the file token.json.\n",
        "SCOPES = 'https://www.googleapis.com/auth/spreadsheets.readonly'\n",
        "\n",
        "# The ID and range of a sample spreadsheet.\n",
        "SAMPLE_SPREADSHEET_ID = '17mhu5u4u4hiEYmd8v20GTKIeP3-72BZqbOQspzYOggg'\n",
        "SAMPLE_RANGE_NAME = 'Class Data!A2:E'\n",
        "\n",
        "def gsheet2df(gsheet):\n",
        "    \"\"\" Converts Google sheet data to a Pandas DataFrame.\n",
        "    Note: This script assumes that your data contains a header file on the first row!\n",
        "    Also note that the Google API returns 'none' from empty cells - in order for the code\n",
        "    below to work, you'll need to make sure your sheet doesn't contain empty cells,\n",
        "    or update the code to account for such instances.\n",
        "    \"\"\"\n",
        "    header = gsheet.get('values', [])[0]   # Assumes first line is header!\n",
        "    values = gsheet.get('values', [])[1:]  # Everything else is data.\n",
        "\n",
        "    if not values:\n",
        "        print('No data found.')\n",
        "        return None \n",
        "    else:\n",
        "        all_data = []\n",
        "        for col_id, col_name in enumerate(header):\n",
        "            column_data = []\n",
        "            for row in values:\n",
        "                if (col_id < len(row)):\n",
        "                  column_data.append(row[col_id])\n",
        "                else: \n",
        "                  column_data.append(0)\n",
        "            ds = pd.Series(data=column_data, name=col_name)\n",
        "            all_data.append(ds)\n",
        "        df = pd.concat(all_data, axis=1)\n",
        "        return df\n",
        "\n",
        "def getSheet(SPREADSHEET_ID, RANGE_NAME):\n",
        "    \"\"\"Shows basic usage of the Sheets API.\n",
        "    Prints values from a sample spreadsheet.\n",
        "    \"\"\"\n",
        "    store = file.Storage('token.json')\n",
        "    creds = store.get()\n",
        "    if not creds or creds.invalid:\n",
        "        flow = client.flow_from_clientsecrets('credentials.json', SCOPES)\n",
        "        creds = tools.run_flow(flow, store)\n",
        "    service = build('sheets', 'v4', http=creds.authorize(Http()))\n",
        "\n",
        "    # Call the Sheets API\n",
        "    \n",
        "    return service.spreadsheets().values().get(spreadsheetId=SPREADSHEET_ID, range=RANGE_NAME).execute()\n",
        "\n",
        "\n",
        "\n",
        "\n",
        "\n"
      ],
      "execution_count": 0,
      "outputs": []
    },
    {
      "metadata": {
        "id": "uJtv1FaIwxOa",
        "colab_type": "code",
        "colab": {}
      },
      "cell_type": "code",
      "source": [
        "def getLatestResults (df, dt, paper):\n",
        "  df['Timestamp'] = pd.to_datetime(df['Timestamp'])\n",
        "  \n",
        "\n",
        "  return df[df.Timestamp >= dt]"
      ],
      "execution_count": 0,
      "outputs": []
    },
    {
      "metadata": {
        "id": "zMgVPWcS1zox",
        "colab_type": "code",
        "colab": {}
      },
      "cell_type": "code",
      "source": [
        "def calcPaperScore (row):\n",
        "  \n",
        "  return sum([int(r) for r in row[5:31] if r !=''])"
      ],
      "execution_count": 0,
      "outputs": []
    },
    {
      "metadata": {
        "id": "eVbC79tRwqGB",
        "colab_type": "code",
        "colab": {}
      },
      "cell_type": "code",
      "source": [
        "def main(dt, paper):\n",
        "\n",
        "    SPREADSHEET_ID = '17mhu5u4u4hiEYmd8v20GTKIeP3-72BZqbOQspzYOggg'\n",
        "    RANGE_NAME = 'Form Responses 1!A:AJ'\n",
        "\n",
        "    gSheet = getSheet(SPREADSHEET_ID, RANGE_NAME)\n",
        "    df = gsheet2df(gSheet)\n",
        "    \n",
        "    df['score'] = df.apply(lambda row: calcPaperScore(row), axis=1)\n",
        "    latestResults = getLatestResults(df, dt, paper)\n",
        "\n",
        "    print (list(latestResults.columns.values))\n",
        "    print (latestResults[['Timestamp', 'Name', 'Paper', 'score']])\n",
        "    \n",
        "    \n",
        "    \n",
        "    "
      ],
      "execution_count": 0,
      "outputs": []
    },
    {
      "metadata": {
        "id": "MNcyj2ciwlMP",
        "colab_type": "code",
        "colab": {
          "base_uri": "https://localhost:8080/",
          "height": 224
        },
        "outputId": "5f8306a5-94ef-4a4d-9bde-7172e9670ffe"
      },
      "cell_type": "code",
      "source": [
        "if __name__ == '__main__':\n",
        "    dateStart = '2018-09-30'\n",
        "    paper = '2H'\n",
        "    main(dateStart, paper)"
      ],
      "execution_count": 111,
      "outputs": [
        {
          "output_type": "stream",
          "text": [
            "['Timestamp', 'Name', 'Year of Paper', 'Month of Paper', 'Paper', 'Q1', 'Q2', 'Q3', 'Q4', 'Q5', 'Q6', 'Q7', 'Q8', 'Q9', 'Q10', 'Q11', 'Q12', 'Q13', 'Q14', 'Q15', 'Q16', 'Q17', 'Q18', 'Q19', 'Q20', 'Q21', 'Q22', 'Q23', 'Q24', 'Q25', 'Q27', 'Q28', 'Q26', 'score']\n",
            "             Timestamp             Name Paper  score\n",
            "85 2018-09-30 17:20:27      Zoya Kamran    2H     61\n",
            "86 2018-09-30 17:29:56    Naveed Sadath    2H     62\n",
            "87 2018-09-30 17:34:46            Razan    2H     32\n",
            "88 2018-09-30 17:36:55  Imran Choudhury    2H     46\n",
            "89 2018-09-30 17:57:58          Stammos    2H      2\n",
            "90 2018-09-30 18:05:53     Zaina Shanan    2H     59\n",
            "91 2018-09-30 21:17:53   Youssof Ismail    2H     96\n",
            "92 2018-09-30 22:24:07     Tebyan Osman    2H     77\n",
            "93 2018-10-01 21:14:18     Gasser Hefny    2H    108\n"
          ],
          "name": "stdout"
        }
      ]
    }
  ]
}