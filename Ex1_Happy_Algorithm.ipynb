{
  "nbformat": 4,
  "nbformat_minor": 0,
  "metadata": {
    "colab": {
      "name": "Ex1-Happy Algorithm.ipynb",
      "version": "0.3.2",
      "provenance": [],
      "collapsed_sections": [],
      "include_colab_link": true
    },
    "kernelspec": {
      "name": "python3",
      "display_name": "Python 3"
    }
  },
  "cells": [
    {
      "cell_type": "markdown",
      "metadata": {
        "id": "view-in-github",
        "colab_type": "text"
      },
      "source": [
        "[View in Colaboratory](https://colab.research.google.com/github/LeroySalih/Angular001/blob/master/Ex1_Happy_Algorithm.ipynb)"
      ]
    },
    {
      "metadata": {
        "id": "TlubcZk73xnC",
        "colab_type": "text"
      },
      "cell_type": "markdown",
      "source": [
        "# The Happy Algorithm\n",
        "\n",
        "An implementation of the Happy Algorithm described in example 1.\n",
        "\n"
      ]
    },
    {
      "metadata": {
        "id": "v7hbEORX38i8",
        "colab_type": "code",
        "colab": {}
      },
      "cell_type": "code",
      "source": [
        "\n",
        "\"\"\"\n",
        "1. Seperate the digits of number\n",
        "2. Square each of the digits.\n",
        "3. Add the squares.\n",
        "4. If the squares sum to 1, the number is \"Happy\"!\n",
        "5. If the squares repeat, then the number is not happy.\n",
        "\n",
        "\"\"\"\n",
        "def isHappy (number, history = []):\n",
        "  \n",
        "  #calculate the happy result.\n",
        "  digits = str(number)\n",
        "\n",
        "  squares = 0\n",
        "  for digit in digits:\n",
        "    squares += int(digit) ** 2\n",
        "    \n",
        "  if (squares == 1):\n",
        "    return True\n",
        "  \n",
        "  if (squares in history):\n",
        "    return False\n",
        "  \n",
        "  history.append(squares)\n",
        "  \n",
        "  return isHappy(squares, history)\n"
      ],
      "execution_count": 0,
      "outputs": []
    },
    {
      "metadata": {
        "id": "uQ8S5BSQ52t4",
        "colab_type": "code",
        "colab": {
          "base_uri": "https://localhost:8080/",
          "height": 51
        },
        "outputId": "550fd90e-625b-4750-f9e4-17ff77c22bff"
      },
      "cell_type": "code",
      "source": [
        "\"\"\"\n",
        "Execute the function\n",
        "\"\"\"\n",
        "\n",
        "print (isHappy (70))\n",
        "print (isHappy (4))"
      ],
      "execution_count": 20,
      "outputs": [
        {
          "output_type": "stream",
          "text": [
            "True\n",
            "False\n"
          ],
          "name": "stdout"
        }
      ]
    }
  ]
}